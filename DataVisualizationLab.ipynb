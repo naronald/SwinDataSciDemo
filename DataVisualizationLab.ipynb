{
 "cells": [
  {
   "cell_type": "code",
   "execution_count": 1,
   "id": "aa2da3bb",
   "metadata": {},
   "outputs": [],
   "source": [
    "import pandas as pd\n",
    "import numpy as np\n",
    "import matplotlib.pyplot as plt"
   ]
  },
  {
   "cell_type": "markdown",
   "id": "de1dd6cc",
   "metadata": {},
   "source": [
    "# Discovery"
   ]
  },
  {
   "cell_type": "markdown",
   "id": "297e256d",
   "metadata": {},
   "source": [
    "### Do we have enough data to draft an analytic plan?"
   ]
  },
  {
   "cell_type": "code",
   "execution_count": 2,
   "id": "ff8bff19",
   "metadata": {
    "scrolled": false
   },
   "outputs": [
    {
     "data": {
      "text/html": [
       "<div>\n",
       "<style scoped>\n",
       "    .dataframe tbody tr th:only-of-type {\n",
       "        vertical-align: middle;\n",
       "    }\n",
       "\n",
       "    .dataframe tbody tr th {\n",
       "        vertical-align: top;\n",
       "    }\n",
       "\n",
       "    .dataframe thead th {\n",
       "        text-align: right;\n",
       "    }\n",
       "</style>\n",
       "<table border=\"1\" class=\"dataframe\">\n",
       "  <thead>\n",
       "    <tr style=\"text-align: right;\">\n",
       "      <th></th>\n",
       "      <th>sepal length (cm)</th>\n",
       "      <th>sepal width (cm)</th>\n",
       "      <th>petal length (mm)</th>\n",
       "      <th>petal width (mm)</th>\n",
       "      <th>species</th>\n",
       "      <th>date measured</th>\n",
       "      <th>measured by</th>\n",
       "    </tr>\n",
       "  </thead>\n",
       "  <tbody>\n",
       "    <tr>\n",
       "      <th>0</th>\n",
       "      <td>5.1</td>\n",
       "      <td>3.5</td>\n",
       "      <td>NaN</td>\n",
       "      <td>2.0</td>\n",
       "      <td>setosa</td>\n",
       "      <td>2023/5/10</td>\n",
       "      <td>Joe</td>\n",
       "    </tr>\n",
       "    <tr>\n",
       "      <th>1</th>\n",
       "      <td>4.9</td>\n",
       "      <td>3.0</td>\n",
       "      <td>14.0</td>\n",
       "      <td>2.0</td>\n",
       "      <td>setosa</td>\n",
       "      <td>2023/5/16</td>\n",
       "      <td>Alan</td>\n",
       "    </tr>\n",
       "    <tr>\n",
       "      <th>2</th>\n",
       "      <td>4.7</td>\n",
       "      <td>3.2</td>\n",
       "      <td>13.0</td>\n",
       "      <td>2.0</td>\n",
       "      <td>setosa</td>\n",
       "      <td>2023/5/23</td>\n",
       "      <td>Joe</td>\n",
       "    </tr>\n",
       "    <tr>\n",
       "      <th>3</th>\n",
       "      <td>4.6</td>\n",
       "      <td>3.1</td>\n",
       "      <td>15.0</td>\n",
       "      <td>2.0</td>\n",
       "      <td>setosa</td>\n",
       "      <td>2023/5/14</td>\n",
       "      <td>Alisa</td>\n",
       "    </tr>\n",
       "    <tr>\n",
       "      <th>4</th>\n",
       "      <td>5.0</td>\n",
       "      <td>3.6</td>\n",
       "      <td>14.0</td>\n",
       "      <td>2.0</td>\n",
       "      <td>setosa</td>\n",
       "      <td>2023/6/16</td>\n",
       "      <td>Joe</td>\n",
       "    </tr>\n",
       "    <tr>\n",
       "      <th>...</th>\n",
       "      <td>...</td>\n",
       "      <td>...</td>\n",
       "      <td>...</td>\n",
       "      <td>...</td>\n",
       "      <td>...</td>\n",
       "      <td>...</td>\n",
       "      <td>...</td>\n",
       "    </tr>\n",
       "    <tr>\n",
       "      <th>205</th>\n",
       "      <td>6.4</td>\n",
       "      <td>2.8</td>\n",
       "      <td>53.0</td>\n",
       "      <td>19.0</td>\n",
       "      <td>virginica</td>\n",
       "      <td>2023/5/20</td>\n",
       "      <td>Joe</td>\n",
       "    </tr>\n",
       "    <tr>\n",
       "      <th>206</th>\n",
       "      <td>6.0</td>\n",
       "      <td>2.9</td>\n",
       "      <td>51.0</td>\n",
       "      <td>19.0</td>\n",
       "      <td>virginica</td>\n",
       "      <td>2023/5/10</td>\n",
       "      <td>Zack</td>\n",
       "    </tr>\n",
       "    <tr>\n",
       "      <th>207</th>\n",
       "      <td>5.2</td>\n",
       "      <td>2.6</td>\n",
       "      <td>45.0</td>\n",
       "      <td>18.0</td>\n",
       "      <td>virginica</td>\n",
       "      <td>2023/6/23</td>\n",
       "      <td>Alan</td>\n",
       "    </tr>\n",
       "    <tr>\n",
       "      <th>208</th>\n",
       "      <td>6.4</td>\n",
       "      <td>NaN</td>\n",
       "      <td>54.0</td>\n",
       "      <td>20.0</td>\n",
       "      <td>virginica</td>\n",
       "      <td>2023/5/22</td>\n",
       "      <td>Alan</td>\n",
       "    </tr>\n",
       "    <tr>\n",
       "      <th>209</th>\n",
       "      <td>7.3</td>\n",
       "      <td>3.1</td>\n",
       "      <td>61.0</td>\n",
       "      <td>21.0</td>\n",
       "      <td>virginica</td>\n",
       "      <td>2023/5/13</td>\n",
       "      <td>Alisa</td>\n",
       "    </tr>\n",
       "  </tbody>\n",
       "</table>\n",
       "<p>210 rows × 7 columns</p>\n",
       "</div>"
      ],
      "text/plain": [
       "     sepal length (cm)  sepal width (cm)  petal length (mm)  petal width (mm)  \\\n",
       "0                  5.1               3.5                NaN               2.0   \n",
       "1                  4.9               3.0               14.0               2.0   \n",
       "2                  4.7               3.2               13.0               2.0   \n",
       "3                  4.6               3.1               15.0               2.0   \n",
       "4                  5.0               3.6               14.0               2.0   \n",
       "..                 ...               ...                ...               ...   \n",
       "205                6.4               2.8               53.0              19.0   \n",
       "206                6.0               2.9               51.0              19.0   \n",
       "207                5.2               2.6               45.0              18.0   \n",
       "208                6.4               NaN               54.0              20.0   \n",
       "209                7.3               3.1               61.0              21.0   \n",
       "\n",
       "       species date measured measured by  \n",
       "0       setosa     2023/5/10         Joe  \n",
       "1       setosa     2023/5/16        Alan  \n",
       "2       setosa     2023/5/23         Joe  \n",
       "3       setosa     2023/5/14       Alisa  \n",
       "4       setosa     2023/6/16         Joe  \n",
       "..         ...           ...         ...  \n",
       "205  virginica     2023/5/20         Joe  \n",
       "206  virginica     2023/5/10        Zack  \n",
       "207  virginica     2023/6/23        Alan  \n",
       "208  virginica     2023/5/22        Alan  \n",
       "209  virginica     2023/5/13       Alisa  \n",
       "\n",
       "[210 rows x 7 columns]"
      ]
     },
     "execution_count": 2,
     "metadata": {},
     "output_type": "execute_result"
    }
   ],
   "source": [
    "raw_iris_data = pd.read_csv('raw_iris_dataset.csv')\n",
    "raw_iris_data"
   ]
  },
  {
   "cell_type": "code",
   "execution_count": 3,
   "id": "dad0378b",
   "metadata": {
    "scrolled": true
   },
   "outputs": [
    {
     "name": "stdout",
     "output_type": "stream",
     "text": [
      "['setosa' 'versicolor' 'virginica']\n"
     ]
    }
   ],
   "source": [
    "# briefly explore the data\n",
    "print(raw_iris_data['species'].unique())"
   ]
  },
  {
   "cell_type": "code",
   "execution_count": 4,
   "id": "b0358d6f",
   "metadata": {
    "scrolled": true
   },
   "outputs": [
    {
     "name": "stdout",
     "output_type": "stream",
     "text": [
      "setosa:\n",
      "sepal length (cm): 4.3 ~ 6.0\n",
      "sepal width (cm): 2.3 ~ 4.4\n",
      "petal length (mm): 10.0 ~ 19.0\n",
      "petal width (mm): 1.0 ~ 6.0\n",
      "versicolor:\n",
      "sepal length (cm): 4.8 ~ 7.1\n",
      "sepal width (cm): 2.0 ~ 3.4\n",
      "petal length (mm): 30.0 ~ 51.0\n",
      "petal width (mm): 10.0 ~ 18.0\n",
      "virginica:\n",
      "sepal length (cm): 4.9 ~ 7.9\n",
      "sepal width (cm): 2.2 ~ 3.8\n",
      "petal length (mm): 44.0 ~ 69.0\n",
      "petal width (mm): 14.0 ~ 25.0\n"
     ]
    }
   ],
   "source": [
    "# briefly explore the data (by species)\n",
    "raw_setosa = raw_iris_data[raw_iris_data['species']=='setosa']\n",
    "print('setosa:')\n",
    "print(f'sepal length (cm): {raw_setosa[\"sepal length (cm)\"].min()} ~ {raw_setosa[\"sepal length (cm)\"].max()}')\n",
    "print(f'sepal width (cm): {raw_setosa[\"sepal width (cm)\"].min()} ~ {raw_setosa[\"sepal width (cm)\"].max()}')\n",
    "print(f'petal length (mm): {raw_setosa[\"petal length (mm)\"].min()} ~ {raw_setosa[\"petal length (mm)\"].max()}')\n",
    "print(f'petal width (mm): {raw_setosa[\"petal width (mm)\"].min()} ~ {raw_setosa[\"petal width (mm)\"].max()}')\n",
    "raw_versicolor = raw_iris_data[raw_iris_data['species']=='versicolor']\n",
    "print('versicolor:')\n",
    "print(f'sepal length (cm): {raw_versicolor[\"sepal length (cm)\"].min()} ~ {raw_versicolor[\"sepal length (cm)\"].max()}')\n",
    "print(f'sepal width (cm): {raw_versicolor[\"sepal width (cm)\"].min()} ~ {raw_versicolor[\"sepal width (cm)\"].max()}')\n",
    "print(f'petal length (mm): {raw_versicolor[\"petal length (mm)\"].min()} ~ {raw_versicolor[\"petal length (mm)\"].max()}')\n",
    "print(f'petal width (mm): {raw_versicolor[\"petal width (mm)\"].min()} ~ {raw_versicolor[\"petal width (mm)\"].max()}')\n",
    "raw_virginica = raw_iris_data[raw_iris_data['species']=='virginica']\n",
    "print('virginica:')\n",
    "print(f'sepal length (cm): {raw_virginica[\"sepal length (cm)\"].min()} ~ {raw_virginica[\"sepal length (cm)\"].max()}')\n",
    "print(f'sepal width (cm): {raw_virginica[\"sepal width (cm)\"].min()} ~ {raw_virginica[\"sepal width (cm)\"].max()}')\n",
    "print(f'petal length (mm): {raw_virginica[\"petal length (mm)\"].min()} ~ {raw_virginica[\"petal length (mm)\"].max()}')\n",
    "print(f'petal width (mm): {raw_virginica[\"petal width (mm)\"].min()} ~ {raw_virginica[\"petal width (mm)\"].max()}')"
   ]
  },
  {
   "cell_type": "code",
   "execution_count": 5,
   "id": "705461f7",
   "metadata": {
    "scrolled": true
   },
   "outputs": [],
   "source": [
    "# briefly explore the data (by species): visualization\n",
    "raw_setosa_data = raw_iris_data[raw_iris_data['species']=='setosa']\n",
    "raw_versicolor_data = raw_iris_data[raw_iris_data['species']=='versicolor']\n",
    "raw_virginica_data = raw_iris_data[raw_iris_data['species']=='virginica']"
   ]
  },
  {
   "cell_type": "code",
   "execution_count": 6,
   "id": "2364283a",
   "metadata": {},
   "outputs": [
    {
     "data": {
      "text/plain": [
       "<matplotlib.legend.Legend at 0x2881a440250>"
      ]
     },
     "execution_count": 6,
     "metadata": {},
     "output_type": "execute_result"
    },
    {
     "data": {
      "image/png": "[encoded data removed]",
      "text/plain": [
       "<Figure size 640x480 with 1 Axes>"
      ]
     },
     "metadata": {},
     "output_type": "display_data"
    }
   ],
   "source": [
    "plt.hist(raw_setosa_data['petal width (mm)'], bins=10, alpha=0.7, edgecolor='black', label='setosa')\n",
    "plt.hist(raw_versicolor_data['petal width (mm)'], bins=10, alpha=0.7, edgecolor='black', label='versicolor')\n",
    "plt.hist(raw_virginica_data['petal width (mm)'], bins=10, alpha=0.7, edgecolor='black', label='virginica')\n",
    "plt.title('Petal Width Distribution in Iris Dataset')\n",
    "plt.xlabel('Petal Width (mm)')\n",
    "plt.ylabel('Frequency')\n",
    "plt.grid()\n",
    "plt.legend()"
   ]
  },
  {
   "cell_type": "code",
   "execution_count": 7,
   "id": "566e7f15",
   "metadata": {},
   "outputs": [
    {
     "data": {
      "text/plain": [
       "<matplotlib.legend.Legend at 0x2881a4cf070>"
      ]
     },
     "execution_count": 7,
     "metadata": {},
     "output_type": "execute_result"
    },
    {
     "data": {
      "image/png": "[encoded data removed]",
      "text/plain": [
       "<Figure size 640x480 with 1 Axes>"
      ]
     },
     "metadata": {},
     "output_type": "display_data"
    }
   ],
   "source": [
    "plt.hist(raw_setosa_data['sepal width (cm)'], bins=10, alpha=0.7, edgecolor='black', label='setosa')\n",
    "plt.hist(raw_versicolor_data['sepal width (cm)'], bins=10, alpha=0.7, edgecolor='black', label='versicolor')\n",
    "plt.hist(raw_virginica_data['sepal width (cm)'], bins=10, alpha=0.7, edgecolor='black', label='virginica')\n",
    "plt.title('Sepal Width Distribution in Iris Dataset')\n",
    "plt.xlabel('Sepal Width (cm)')\n",
    "plt.ylabel('Frequency')\n",
    "plt.grid()\n",
    "plt.legend()"
   ]
  },
  {
   "cell_type": "code",
   "execution_count": 8,
   "id": "21185177",
   "metadata": {
    "scrolled": false
   },
   "outputs": [
    {
     "data": {
      "text/plain": [
       "<matplotlib.legend.Legend at 0x2881a56ed60>"
      ]
     },
     "execution_count": 8,
     "metadata": {},
     "output_type": "execute_result"
    },
    {
     "data": {
      "image/png": "[encoded data removed]",
      "text/plain": [
       "<Figure size 640x480 with 1 Axes>"
      ]
     },
     "metadata": {},
     "output_type": "display_data"
    }
   ],
   "source": [
    "plt.scatter(raw_setosa_data['sepal length (cm)'], raw_setosa_data['sepal width (cm)'], label='setosa', alpha=0.7)\n",
    "plt.scatter(raw_versicolor_data['sepal length (cm)'], raw_versicolor_data['sepal width (cm)'], label='vesicolor', alpha=0.7)\n",
    "plt.scatter(raw_virginica_data['sepal length (cm)'], raw_virginica_data['sepal width (cm)'], label='virginica', alpha=0.7)\n",
    "plt.title('Sepal width and Sepal length scatter of Iris data')\n",
    "plt.xlabel('sepal length (cm)')\n",
    "plt.ylabel('sepal width (cm)')\n",
    "plt.grid()\n",
    "plt.legend()"
   ]
  },
  {
   "cell_type": "code",
   "execution_count": 9,
   "id": "18b79add",
   "metadata": {},
   "outputs": [
    {
     "data": {
      "text/plain": [
       "<matplotlib.legend.Legend at 0x2881a925d30>"
      ]
     },
     "execution_count": 9,
     "metadata": {},
     "output_type": "execute_result"
    },
    {
     "data": {
      "image/png": "[encoded data removed]",
      "text/plain": [
       "<Figure size 640x480 with 1 Axes>"
      ]
     },
     "metadata": {},
     "output_type": "display_data"
    }
   ],
   "source": [
    "plt.scatter(raw_setosa_data['petal length (mm)'], raw_setosa_data['petal width (mm)'], label='setosa', alpha=0.7)\n",
    "plt.scatter(raw_versicolor_data['petal length (mm)'], raw_versicolor_data['petal width (mm)'], label='vesicolor', alpha=0.7)\n",
    "plt.scatter(raw_virginica_data['petal length (mm)'], raw_virginica_data['petal width (mm)'], label='virginica', alpha=0.7)\n",
    "plt.title('Petal width and Petal length scatter of Iris data')\n",
    "plt.xlabel('petal length (mm)')\n",
    "plt.ylabel('petal width (mm)')\n",
    "plt.grid()\n",
    "plt.legend()"
   ]
  },
  {
   "cell_type": "code",
   "execution_count": 10,
   "id": "0b951df4",
   "metadata": {},
   "outputs": [
    {
     "data": {
      "text/plain": [
       "<matplotlib.legend.Legend at 0x2881a6d45b0>"
      ]
     },
     "execution_count": 10,
     "metadata": {},
     "output_type": "execute_result"
    },
    {
     "data": {
      "image/png": "[encoded data removed]",
      "text/plain": [
       "<Figure size 640x480 with 1 Axes>"
      ]
     },
     "metadata": {},
     "output_type": "display_data"
    }
   ],
   "source": [
    "plt.scatter(raw_setosa_data['petal length (mm)'], raw_setosa_data['sepal width (cm)'], label='setosa', alpha=0.7)\n",
    "plt.scatter(raw_versicolor_data['petal length (mm)'], raw_versicolor_data['sepal width (cm)'], label='vesicolor', alpha=0.7)\n",
    "plt.scatter(raw_virginica_data['petal length (mm)'], raw_virginica_data['sepal width (cm)'], label='virginica', alpha=0.7)\n",
    "plt.title('Sepal width and Petal length scatter of Iris data')\n",
    "plt.xlabel('petal length (mm)')\n",
    "plt.ylabel('sepal width (cm)')\n",
    "plt.grid()\n",
    "plt.legend()"
   ]
  },
  {
   "cell_type": "markdown",
   "id": "f10654b8",
   "metadata": {},
   "source": [
    "# Data Prep"
   ]
  },
  {
   "cell_type": "markdown",
   "id": "e17d6672",
   "metadata": {},
   "source": [
    "### Do I have enough good data to start building the model?\n",
    "### Is my data fit for use?"
   ]
  },
  {
   "cell_type": "code",
   "execution_count": 11,
   "id": "cbeb81cd",
   "metadata": {},
   "outputs": [
    {
     "data": {
      "text/html": [
       "<div>\n",
       "<style scoped>\n",
       "    .dataframe tbody tr th:only-of-type {\n",
       "        vertical-align: middle;\n",
       "    }\n",
       "\n",
       "    .dataframe tbody tr th {\n",
       "        vertical-align: top;\n",
       "    }\n",
       "\n",
       "    .dataframe thead th {\n",
       "        text-align: right;\n",
       "    }\n",
       "</style>\n",
       "<table border=\"1\" class=\"dataframe\">\n",
       "  <thead>\n",
       "    <tr style=\"text-align: right;\">\n",
       "      <th></th>\n",
       "      <th>sepal length (cm)</th>\n",
       "      <th>sepal width (cm)</th>\n",
       "      <th>petal length (mm)</th>\n",
       "      <th>petal width (mm)</th>\n",
       "      <th>species</th>\n",
       "      <th>date measured</th>\n",
       "      <th>measured by</th>\n",
       "    </tr>\n",
       "  </thead>\n",
       "  <tbody>\n",
       "    <tr>\n",
       "      <th>0</th>\n",
       "      <td>5.1</td>\n",
       "      <td>3.5</td>\n",
       "      <td>NaN</td>\n",
       "      <td>2.0</td>\n",
       "      <td>setosa</td>\n",
       "      <td>2023/5/10</td>\n",
       "      <td>Joe</td>\n",
       "    </tr>\n",
       "    <tr>\n",
       "      <th>1</th>\n",
       "      <td>4.9</td>\n",
       "      <td>3.0</td>\n",
       "      <td>14.0</td>\n",
       "      <td>2.0</td>\n",
       "      <td>setosa</td>\n",
       "      <td>2023/5/16</td>\n",
       "      <td>Alan</td>\n",
       "    </tr>\n",
       "    <tr>\n",
       "      <th>2</th>\n",
       "      <td>4.7</td>\n",
       "      <td>3.2</td>\n",
       "      <td>13.0</td>\n",
       "      <td>2.0</td>\n",
       "      <td>setosa</td>\n",
       "      <td>2023/5/23</td>\n",
       "      <td>Joe</td>\n",
       "    </tr>\n",
       "    <tr>\n",
       "      <th>3</th>\n",
       "      <td>4.6</td>\n",
       "      <td>3.1</td>\n",
       "      <td>15.0</td>\n",
       "      <td>2.0</td>\n",
       "      <td>setosa</td>\n",
       "      <td>2023/5/14</td>\n",
       "      <td>Alisa</td>\n",
       "    </tr>\n",
       "    <tr>\n",
       "      <th>4</th>\n",
       "      <td>5.0</td>\n",
       "      <td>3.6</td>\n",
       "      <td>14.0</td>\n",
       "      <td>2.0</td>\n",
       "      <td>setosa</td>\n",
       "      <td>2023/6/16</td>\n",
       "      <td>Joe</td>\n",
       "    </tr>\n",
       "    <tr>\n",
       "      <th>...</th>\n",
       "      <td>...</td>\n",
       "      <td>...</td>\n",
       "      <td>...</td>\n",
       "      <td>...</td>\n",
       "      <td>...</td>\n",
       "      <td>...</td>\n",
       "      <td>...</td>\n",
       "    </tr>\n",
       "    <tr>\n",
       "      <th>205</th>\n",
       "      <td>6.4</td>\n",
       "      <td>2.8</td>\n",
       "      <td>53.0</td>\n",
       "      <td>19.0</td>\n",
       "      <td>virginica</td>\n",
       "      <td>2023/5/20</td>\n",
       "      <td>Joe</td>\n",
       "    </tr>\n",
       "    <tr>\n",
       "      <th>206</th>\n",
       "      <td>6.0</td>\n",
       "      <td>2.9</td>\n",
       "      <td>51.0</td>\n",
       "      <td>19.0</td>\n",
       "      <td>virginica</td>\n",
       "      <td>2023/5/10</td>\n",
       "      <td>Zack</td>\n",
       "    </tr>\n",
       "    <tr>\n",
       "      <th>207</th>\n",
       "      <td>5.2</td>\n",
       "      <td>2.6</td>\n",
       "      <td>45.0</td>\n",
       "      <td>18.0</td>\n",
       "      <td>virginica</td>\n",
       "      <td>2023/6/23</td>\n",
       "      <td>Alan</td>\n",
       "    </tr>\n",
       "    <tr>\n",
       "      <th>208</th>\n",
       "      <td>6.4</td>\n",
       "      <td>NaN</td>\n",
       "      <td>54.0</td>\n",
       "      <td>20.0</td>\n",
       "      <td>virginica</td>\n",
       "      <td>2023/5/22</td>\n",
       "      <td>Alan</td>\n",
       "    </tr>\n",
       "    <tr>\n",
       "      <th>209</th>\n",
       "      <td>7.3</td>\n",
       "      <td>3.1</td>\n",
       "      <td>61.0</td>\n",
       "      <td>21.0</td>\n",
       "      <td>virginica</td>\n",
       "      <td>2023/5/13</td>\n",
       "      <td>Alisa</td>\n",
       "    </tr>\n",
       "  </tbody>\n",
       "</table>\n",
       "<p>210 rows × 7 columns</p>\n",
       "</div>"
      ],
      "text/plain": [
       "     sepal length (cm)  sepal width (cm)  petal length (mm)  petal width (mm)  \\\n",
       "0                  5.1               3.5                NaN               2.0   \n",
       "1                  4.9               3.0               14.0               2.0   \n",
       "2                  4.7               3.2               13.0               2.0   \n",
       "3                  4.6               3.1               15.0               2.0   \n",
       "4                  5.0               3.6               14.0               2.0   \n",
       "..                 ...               ...                ...               ...   \n",
       "205                6.4               2.8               53.0              19.0   \n",
       "206                6.0               2.9               51.0              19.0   \n",
       "207                5.2               2.6               45.0              18.0   \n",
       "208                6.4               NaN               54.0              20.0   \n",
       "209                7.3               3.1               61.0              21.0   \n",
       "\n",
       "       species date measured measured by  \n",
       "0       setosa     2023/5/10         Joe  \n",
       "1       setosa     2023/5/16        Alan  \n",
       "2       setosa     2023/5/23         Joe  \n",
       "3       setosa     2023/5/14       Alisa  \n",
       "4       setosa     2023/6/16         Joe  \n",
       "..         ...           ...         ...  \n",
       "205  virginica     2023/5/20         Joe  \n",
       "206  virginica     2023/5/10        Zack  \n",
       "207  virginica     2023/6/23        Alan  \n",
       "208  virginica     2023/5/22        Alan  \n",
       "209  virginica     2023/5/13       Alisa  \n",
       "\n",
       "[210 rows x 7 columns]"
      ]
     },
     "execution_count": 11,
     "metadata": {},
     "output_type": "execute_result"
    }
   ],
   "source": [
    "# look at the raw data again\n",
    "raw_iris_data"
   ]
  },
  {
   "cell_type": "code",
   "execution_count": 12,
   "id": "82e8cf1f",
   "metadata": {
    "scrolled": true
   },
   "outputs": [
    {
     "data": {
      "text/html": [
       "<div>\n",
       "<style scoped>\n",
       "    .dataframe tbody tr th:only-of-type {\n",
       "        vertical-align: middle;\n",
       "    }\n",
       "\n",
       "    .dataframe tbody tr th {\n",
       "        vertical-align: top;\n",
       "    }\n",
       "\n",
       "    .dataframe thead th {\n",
       "        text-align: right;\n",
       "    }\n",
       "</style>\n",
       "<table border=\"1\" class=\"dataframe\">\n",
       "  <thead>\n",
       "    <tr style=\"text-align: right;\">\n",
       "      <th></th>\n",
       "      <th>sepal length (cm)</th>\n",
       "      <th>sepal width (cm)</th>\n",
       "      <th>petal length (mm)</th>\n",
       "      <th>petal width (mm)</th>\n",
       "      <th>species</th>\n",
       "    </tr>\n",
       "  </thead>\n",
       "  <tbody>\n",
       "    <tr>\n",
       "      <th>0</th>\n",
       "      <td>5.1</td>\n",
       "      <td>3.5</td>\n",
       "      <td>NaN</td>\n",
       "      <td>2.0</td>\n",
       "      <td>setosa</td>\n",
       "    </tr>\n",
       "    <tr>\n",
       "      <th>1</th>\n",
       "      <td>4.9</td>\n",
       "      <td>3.0</td>\n",
       "      <td>14.0</td>\n",
       "      <td>2.0</td>\n",
       "      <td>setosa</td>\n",
       "    </tr>\n",
       "    <tr>\n",
       "      <th>2</th>\n",
       "      <td>4.7</td>\n",
       "      <td>3.2</td>\n",
       "      <td>13.0</td>\n",
       "      <td>2.0</td>\n",
       "      <td>setosa</td>\n",
       "    </tr>\n",
       "    <tr>\n",
       "      <th>3</th>\n",
       "      <td>4.6</td>\n",
       "      <td>3.1</td>\n",
       "      <td>15.0</td>\n",
       "      <td>2.0</td>\n",
       "      <td>setosa</td>\n",
       "    </tr>\n",
       "    <tr>\n",
       "      <th>4</th>\n",
       "      <td>5.0</td>\n",
       "      <td>3.6</td>\n",
       "      <td>14.0</td>\n",
       "      <td>2.0</td>\n",
       "      <td>setosa</td>\n",
       "    </tr>\n",
       "    <tr>\n",
       "      <th>...</th>\n",
       "      <td>...</td>\n",
       "      <td>...</td>\n",
       "      <td>...</td>\n",
       "      <td>...</td>\n",
       "      <td>...</td>\n",
       "    </tr>\n",
       "    <tr>\n",
       "      <th>205</th>\n",
       "      <td>6.4</td>\n",
       "      <td>2.8</td>\n",
       "      <td>53.0</td>\n",
       "      <td>19.0</td>\n",
       "      <td>virginica</td>\n",
       "    </tr>\n",
       "    <tr>\n",
       "      <th>206</th>\n",
       "      <td>6.0</td>\n",
       "      <td>2.9</td>\n",
       "      <td>51.0</td>\n",
       "      <td>19.0</td>\n",
       "      <td>virginica</td>\n",
       "    </tr>\n",
       "    <tr>\n",
       "      <th>207</th>\n",
       "      <td>5.2</td>\n",
       "      <td>2.6</td>\n",
       "      <td>45.0</td>\n",
       "      <td>18.0</td>\n",
       "      <td>virginica</td>\n",
       "    </tr>\n",
       "    <tr>\n",
       "      <th>208</th>\n",
       "      <td>6.4</td>\n",
       "      <td>NaN</td>\n",
       "      <td>54.0</td>\n",
       "      <td>20.0</td>\n",
       "      <td>virginica</td>\n",
       "    </tr>\n",
       "    <tr>\n",
       "      <th>209</th>\n",
       "      <td>7.3</td>\n",
       "      <td>3.1</td>\n",
       "      <td>61.0</td>\n",
       "      <td>21.0</td>\n",
       "      <td>virginica</td>\n",
       "    </tr>\n",
       "  </tbody>\n",
       "</table>\n",
       "<p>210 rows × 5 columns</p>\n",
       "</div>"
      ],
      "text/plain": [
       "     sepal length (cm)  sepal width (cm)  petal length (mm)  petal width (mm)  \\\n",
       "0                  5.1               3.5                NaN               2.0   \n",
       "1                  4.9               3.0               14.0               2.0   \n",
       "2                  4.7               3.2               13.0               2.0   \n",
       "3                  4.6               3.1               15.0               2.0   \n",
       "4                  5.0               3.6               14.0               2.0   \n",
       "..                 ...               ...                ...               ...   \n",
       "205                6.4               2.8               53.0              19.0   \n",
       "206                6.0               2.9               51.0              19.0   \n",
       "207                5.2               2.6               45.0              18.0   \n",
       "208                6.4               NaN               54.0              20.0   \n",
       "209                7.3               3.1               61.0              21.0   \n",
       "\n",
       "       species  \n",
       "0       setosa  \n",
       "1       setosa  \n",
       "2       setosa  \n",
       "3       setosa  \n",
       "4       setosa  \n",
       "..         ...  \n",
       "205  virginica  \n",
       "206  virginica  \n",
       "207  virginica  \n",
       "208  virginica  \n",
       "209  virginica  \n",
       "\n",
       "[210 rows x 5 columns]"
      ]
     },
     "execution_count": 12,
     "metadata": {},
     "output_type": "execute_result"
    }
   ],
   "source": [
    "# select data\n",
    "iris_data = raw_iris_data.drop(['date measured', 'measured by'], axis=1)\n",
    "iris_data"
   ]
  },
  {
   "cell_type": "code",
   "execution_count": 13,
   "id": "6d0ccfc8",
   "metadata": {},
   "outputs": [
    {
     "data": {
      "text/plain": [
       "sepal length (cm)     True\n",
       "sepal width (cm)      True\n",
       "petal length (mm)     True\n",
       "petal width (mm)      True\n",
       "species              False\n",
       "dtype: bool"
      ]
     },
     "execution_count": 13,
     "metadata": {},
     "output_type": "execute_result"
    }
   ],
   "source": [
    "# check usability and clean the data\n",
    "# some data may be abnormal, containing errors or missing values\n",
    "# in this case, we have some missing values\n",
    "\n",
    "# check if any cell in a column contains 'nan'(no value)\n",
    "iris_data.isna().any()"
   ]
  },
  {
   "cell_type": "code",
   "execution_count": 14,
   "id": "6f464a99",
   "metadata": {},
   "outputs": [
    {
     "data": {
      "text/html": [
       "<div>\n",
       "<style scoped>\n",
       "    .dataframe tbody tr th:only-of-type {\n",
       "        vertical-align: middle;\n",
       "    }\n",
       "\n",
       "    .dataframe tbody tr th {\n",
       "        vertical-align: top;\n",
       "    }\n",
       "\n",
       "    .dataframe thead th {\n",
       "        text-align: right;\n",
       "    }\n",
       "</style>\n",
       "<table border=\"1\" class=\"dataframe\">\n",
       "  <thead>\n",
       "    <tr style=\"text-align: right;\">\n",
       "      <th></th>\n",
       "      <th>sepal length (cm)</th>\n",
       "      <th>sepal width (cm)</th>\n",
       "      <th>petal length (mm)</th>\n",
       "      <th>petal width (mm)</th>\n",
       "      <th>species</th>\n",
       "    </tr>\n",
       "  </thead>\n",
       "  <tbody>\n",
       "    <tr>\n",
       "      <th>1</th>\n",
       "      <td>4.9</td>\n",
       "      <td>3.0</td>\n",
       "      <td>14.0</td>\n",
       "      <td>2.0</td>\n",
       "      <td>setosa</td>\n",
       "    </tr>\n",
       "    <tr>\n",
       "      <th>2</th>\n",
       "      <td>4.7</td>\n",
       "      <td>3.2</td>\n",
       "      <td>13.0</td>\n",
       "      <td>2.0</td>\n",
       "      <td>setosa</td>\n",
       "    </tr>\n",
       "    <tr>\n",
       "      <th>3</th>\n",
       "      <td>4.6</td>\n",
       "      <td>3.1</td>\n",
       "      <td>15.0</td>\n",
       "      <td>2.0</td>\n",
       "      <td>setosa</td>\n",
       "    </tr>\n",
       "    <tr>\n",
       "      <th>4</th>\n",
       "      <td>5.0</td>\n",
       "      <td>3.6</td>\n",
       "      <td>14.0</td>\n",
       "      <td>2.0</td>\n",
       "      <td>setosa</td>\n",
       "    </tr>\n",
       "    <tr>\n",
       "      <th>5</th>\n",
       "      <td>5.4</td>\n",
       "      <td>3.9</td>\n",
       "      <td>17.0</td>\n",
       "      <td>4.0</td>\n",
       "      <td>setosa</td>\n",
       "    </tr>\n",
       "    <tr>\n",
       "      <th>...</th>\n",
       "      <td>...</td>\n",
       "      <td>...</td>\n",
       "      <td>...</td>\n",
       "      <td>...</td>\n",
       "      <td>...</td>\n",
       "    </tr>\n",
       "    <tr>\n",
       "      <th>203</th>\n",
       "      <td>6.4</td>\n",
       "      <td>2.8</td>\n",
       "      <td>54.0</td>\n",
       "      <td>19.0</td>\n",
       "      <td>virginica</td>\n",
       "    </tr>\n",
       "    <tr>\n",
       "      <th>205</th>\n",
       "      <td>6.4</td>\n",
       "      <td>2.8</td>\n",
       "      <td>53.0</td>\n",
       "      <td>19.0</td>\n",
       "      <td>virginica</td>\n",
       "    </tr>\n",
       "    <tr>\n",
       "      <th>206</th>\n",
       "      <td>6.0</td>\n",
       "      <td>2.9</td>\n",
       "      <td>51.0</td>\n",
       "      <td>19.0</td>\n",
       "      <td>virginica</td>\n",
       "    </tr>\n",
       "    <tr>\n",
       "      <th>207</th>\n",
       "      <td>5.2</td>\n",
       "      <td>2.6</td>\n",
       "      <td>45.0</td>\n",
       "      <td>18.0</td>\n",
       "      <td>virginica</td>\n",
       "    </tr>\n",
       "    <tr>\n",
       "      <th>209</th>\n",
       "      <td>7.3</td>\n",
       "      <td>3.1</td>\n",
       "      <td>61.0</td>\n",
       "      <td>21.0</td>\n",
       "      <td>virginica</td>\n",
       "    </tr>\n",
       "  </tbody>\n",
       "</table>\n",
       "<p>187 rows × 5 columns</p>\n",
       "</div>"
      ],
      "text/plain": [
       "     sepal length (cm)  sepal width (cm)  petal length (mm)  petal width (mm)  \\\n",
       "1                  4.9               3.0               14.0               2.0   \n",
       "2                  4.7               3.2               13.0               2.0   \n",
       "3                  4.6               3.1               15.0               2.0   \n",
       "4                  5.0               3.6               14.0               2.0   \n",
       "5                  5.4               3.9               17.0               4.0   \n",
       "..                 ...               ...                ...               ...   \n",
       "203                6.4               2.8               54.0              19.0   \n",
       "205                6.4               2.8               53.0              19.0   \n",
       "206                6.0               2.9               51.0              19.0   \n",
       "207                5.2               2.6               45.0              18.0   \n",
       "209                7.3               3.1               61.0              21.0   \n",
       "\n",
       "       species  \n",
       "1       setosa  \n",
       "2       setosa  \n",
       "3       setosa  \n",
       "4       setosa  \n",
       "5       setosa  \n",
       "..         ...  \n",
       "203  virginica  \n",
       "205  virginica  \n",
       "206  virginica  \n",
       "207  virginica  \n",
       "209  virginica  \n",
       "\n",
       "[187 rows x 5 columns]"
      ]
     },
     "execution_count": 14,
     "metadata": {},
     "output_type": "execute_result"
    }
   ],
   "source": [
    "# check again to see if 'nan' are removed\n",
    "iris_data_drop_na = iris_data.dropna()\n",
    "iris_data_drop_na"
   ]
  },
  {
   "cell_type": "code",
   "execution_count": 15,
   "id": "10bcd047",
   "metadata": {
    "scrolled": true
   },
   "outputs": [
    {
     "data": {
      "text/plain": [
       "sepal length (cm)    False\n",
       "sepal width (cm)     False\n",
       "petal length (mm)    False\n",
       "petal width (mm)     False\n",
       "species              False\n",
       "dtype: bool"
      ]
     },
     "execution_count": 15,
     "metadata": {},
     "output_type": "execute_result"
    }
   ],
   "source": [
    "iris_data_drop_na.isna().any()"
   ]
  },
  {
   "cell_type": "code",
   "execution_count": 16,
   "id": "528e1c0c",
   "metadata": {},
   "outputs": [
    {
     "data": {
      "text/html": [
       "<div>\n",
       "<style scoped>\n",
       "    .dataframe tbody tr th:only-of-type {\n",
       "        vertical-align: middle;\n",
       "    }\n",
       "\n",
       "    .dataframe tbody tr th {\n",
       "        vertical-align: top;\n",
       "    }\n",
       "\n",
       "    .dataframe thead th {\n",
       "        text-align: right;\n",
       "    }\n",
       "</style>\n",
       "<table border=\"1\" class=\"dataframe\">\n",
       "  <thead>\n",
       "    <tr style=\"text-align: right;\">\n",
       "      <th></th>\n",
       "      <th>sepal length (cm)</th>\n",
       "      <th>sepal width (cm)</th>\n",
       "      <th>species</th>\n",
       "      <th>petal length (cm)</th>\n",
       "      <th>petal width (cm)</th>\n",
       "    </tr>\n",
       "  </thead>\n",
       "  <tbody>\n",
       "    <tr>\n",
       "      <th>1</th>\n",
       "      <td>4.9</td>\n",
       "      <td>3.0</td>\n",
       "      <td>setosa</td>\n",
       "      <td>1.4</td>\n",
       "      <td>0.2</td>\n",
       "    </tr>\n",
       "    <tr>\n",
       "      <th>2</th>\n",
       "      <td>4.7</td>\n",
       "      <td>3.2</td>\n",
       "      <td>setosa</td>\n",
       "      <td>1.3</td>\n",
       "      <td>0.2</td>\n",
       "    </tr>\n",
       "    <tr>\n",
       "      <th>3</th>\n",
       "      <td>4.6</td>\n",
       "      <td>3.1</td>\n",
       "      <td>setosa</td>\n",
       "      <td>1.5</td>\n",
       "      <td>0.2</td>\n",
       "    </tr>\n",
       "    <tr>\n",
       "      <th>4</th>\n",
       "      <td>5.0</td>\n",
       "      <td>3.6</td>\n",
       "      <td>setosa</td>\n",
       "      <td>1.4</td>\n",
       "      <td>0.2</td>\n",
       "    </tr>\n",
       "    <tr>\n",
       "      <th>5</th>\n",
       "      <td>5.4</td>\n",
       "      <td>3.9</td>\n",
       "      <td>setosa</td>\n",
       "      <td>1.7</td>\n",
       "      <td>0.4</td>\n",
       "    </tr>\n",
       "    <tr>\n",
       "      <th>...</th>\n",
       "      <td>...</td>\n",
       "      <td>...</td>\n",
       "      <td>...</td>\n",
       "      <td>...</td>\n",
       "      <td>...</td>\n",
       "    </tr>\n",
       "    <tr>\n",
       "      <th>203</th>\n",
       "      <td>6.4</td>\n",
       "      <td>2.8</td>\n",
       "      <td>virginica</td>\n",
       "      <td>5.4</td>\n",
       "      <td>1.9</td>\n",
       "    </tr>\n",
       "    <tr>\n",
       "      <th>205</th>\n",
       "      <td>6.4</td>\n",
       "      <td>2.8</td>\n",
       "      <td>virginica</td>\n",
       "      <td>5.3</td>\n",
       "      <td>1.9</td>\n",
       "    </tr>\n",
       "    <tr>\n",
       "      <th>206</th>\n",
       "      <td>6.0</td>\n",
       "      <td>2.9</td>\n",
       "      <td>virginica</td>\n",
       "      <td>5.1</td>\n",
       "      <td>1.9</td>\n",
       "    </tr>\n",
       "    <tr>\n",
       "      <th>207</th>\n",
       "      <td>5.2</td>\n",
       "      <td>2.6</td>\n",
       "      <td>virginica</td>\n",
       "      <td>4.5</td>\n",
       "      <td>1.8</td>\n",
       "    </tr>\n",
       "    <tr>\n",
       "      <th>209</th>\n",
       "      <td>7.3</td>\n",
       "      <td>3.1</td>\n",
       "      <td>virginica</td>\n",
       "      <td>6.1</td>\n",
       "      <td>2.1</td>\n",
       "    </tr>\n",
       "  </tbody>\n",
       "</table>\n",
       "<p>187 rows × 5 columns</p>\n",
       "</div>"
      ],
      "text/plain": [
       "     sepal length (cm)  sepal width (cm)    species  petal length (cm)  \\\n",
       "1                  4.9               3.0     setosa                1.4   \n",
       "2                  4.7               3.2     setosa                1.3   \n",
       "3                  4.6               3.1     setosa                1.5   \n",
       "4                  5.0               3.6     setosa                1.4   \n",
       "5                  5.4               3.9     setosa                1.7   \n",
       "..                 ...               ...        ...                ...   \n",
       "203                6.4               2.8  virginica                5.4   \n",
       "205                6.4               2.8  virginica                5.3   \n",
       "206                6.0               2.9  virginica                5.1   \n",
       "207                5.2               2.6  virginica                4.5   \n",
       "209                7.3               3.1  virginica                6.1   \n",
       "\n",
       "     petal width (cm)  \n",
       "1                 0.2  \n",
       "2                 0.2  \n",
       "3                 0.2  \n",
       "4                 0.2  \n",
       "5                 0.4  \n",
       "..                ...  \n",
       "203               1.9  \n",
       "205               1.9  \n",
       "206               1.9  \n",
       "207               1.8  \n",
       "209               2.1  \n",
       "\n",
       "[187 rows x 5 columns]"
      ]
     },
     "execution_count": 16,
     "metadata": {},
     "output_type": "execute_result"
    }
   ],
   "source": [
    "# align the unit of data to a uniform unit\n",
    "petal_length_cm = np.array(iris_data_drop_na['petal length (mm)'])/10\n",
    "petal_width_cm = np.array(iris_data_drop_na['petal width (mm)'])/10\n",
    "iris_data_normalized = pd.DataFrame(iris_data_drop_na)\n",
    "iris_data_normalized['petal length (cm)'] = petal_length_cm\n",
    "iris_data_normalized['petal width (cm)'] = petal_width_cm\n",
    "iris_data_normalized=iris_data_normalized.drop(['petal length (mm)','petal width (mm)'], axis=1)\n",
    "iris_data_normalized"
   ]
  },
  {
   "cell_type": "code",
   "execution_count": 17,
   "id": "bff87138",
   "metadata": {},
   "outputs": [
    {
     "data": {
      "text/html": [
       "<div>\n",
       "<style scoped>\n",
       "    .dataframe tbody tr th:only-of-type {\n",
       "        vertical-align: middle;\n",
       "    }\n",
       "\n",
       "    .dataframe tbody tr th {\n",
       "        vertical-align: top;\n",
       "    }\n",
       "\n",
       "    .dataframe thead th {\n",
       "        text-align: right;\n",
       "    }\n",
       "</style>\n",
       "<table border=\"1\" class=\"dataframe\">\n",
       "  <thead>\n",
       "    <tr style=\"text-align: right;\">\n",
       "      <th></th>\n",
       "      <th>sepal length (cm)</th>\n",
       "      <th>sepal width (cm)</th>\n",
       "      <th>species</th>\n",
       "      <th>petal length (cm)</th>\n",
       "      <th>petal width (cm)</th>\n",
       "      <th>species_num</th>\n",
       "    </tr>\n",
       "  </thead>\n",
       "  <tbody>\n",
       "    <tr>\n",
       "      <th>1</th>\n",
       "      <td>4.9</td>\n",
       "      <td>3.0</td>\n",
       "      <td>setosa</td>\n",
       "      <td>1.4</td>\n",
       "      <td>0.2</td>\n",
       "      <td>0</td>\n",
       "    </tr>\n",
       "    <tr>\n",
       "      <th>2</th>\n",
       "      <td>4.7</td>\n",
       "      <td>3.2</td>\n",
       "      <td>setosa</td>\n",
       "      <td>1.3</td>\n",
       "      <td>0.2</td>\n",
       "      <td>0</td>\n",
       "    </tr>\n",
       "    <tr>\n",
       "      <th>3</th>\n",
       "      <td>4.6</td>\n",
       "      <td>3.1</td>\n",
       "      <td>setosa</td>\n",
       "      <td>1.5</td>\n",
       "      <td>0.2</td>\n",
       "      <td>0</td>\n",
       "    </tr>\n",
       "    <tr>\n",
       "      <th>4</th>\n",
       "      <td>5.0</td>\n",
       "      <td>3.6</td>\n",
       "      <td>setosa</td>\n",
       "      <td>1.4</td>\n",
       "      <td>0.2</td>\n",
       "      <td>0</td>\n",
       "    </tr>\n",
       "    <tr>\n",
       "      <th>5</th>\n",
       "      <td>5.4</td>\n",
       "      <td>3.9</td>\n",
       "      <td>setosa</td>\n",
       "      <td>1.7</td>\n",
       "      <td>0.4</td>\n",
       "      <td>0</td>\n",
       "    </tr>\n",
       "    <tr>\n",
       "      <th>...</th>\n",
       "      <td>...</td>\n",
       "      <td>...</td>\n",
       "      <td>...</td>\n",
       "      <td>...</td>\n",
       "      <td>...</td>\n",
       "      <td>...</td>\n",
       "    </tr>\n",
       "    <tr>\n",
       "      <th>203</th>\n",
       "      <td>6.4</td>\n",
       "      <td>2.8</td>\n",
       "      <td>virginica</td>\n",
       "      <td>5.4</td>\n",
       "      <td>1.9</td>\n",
       "      <td>2</td>\n",
       "    </tr>\n",
       "    <tr>\n",
       "      <th>205</th>\n",
       "      <td>6.4</td>\n",
       "      <td>2.8</td>\n",
       "      <td>virginica</td>\n",
       "      <td>5.3</td>\n",
       "      <td>1.9</td>\n",
       "      <td>2</td>\n",
       "    </tr>\n",
       "    <tr>\n",
       "      <th>206</th>\n",
       "      <td>6.0</td>\n",
       "      <td>2.9</td>\n",
       "      <td>virginica</td>\n",
       "      <td>5.1</td>\n",
       "      <td>1.9</td>\n",
       "      <td>2</td>\n",
       "    </tr>\n",
       "    <tr>\n",
       "      <th>207</th>\n",
       "      <td>5.2</td>\n",
       "      <td>2.6</td>\n",
       "      <td>virginica</td>\n",
       "      <td>4.5</td>\n",
       "      <td>1.8</td>\n",
       "      <td>2</td>\n",
       "    </tr>\n",
       "    <tr>\n",
       "      <th>209</th>\n",
       "      <td>7.3</td>\n",
       "      <td>3.1</td>\n",
       "      <td>virginica</td>\n",
       "      <td>6.1</td>\n",
       "      <td>2.1</td>\n",
       "      <td>2</td>\n",
       "    </tr>\n",
       "  </tbody>\n",
       "</table>\n",
       "<p>187 rows × 6 columns</p>\n",
       "</div>"
      ],
      "text/plain": [
       "     sepal length (cm)  sepal width (cm)    species  petal length (cm)  \\\n",
       "1                  4.9               3.0     setosa                1.4   \n",
       "2                  4.7               3.2     setosa                1.3   \n",
       "3                  4.6               3.1     setosa                1.5   \n",
       "4                  5.0               3.6     setosa                1.4   \n",
       "5                  5.4               3.9     setosa                1.7   \n",
       "..                 ...               ...        ...                ...   \n",
       "203                6.4               2.8  virginica                5.4   \n",
       "205                6.4               2.8  virginica                5.3   \n",
       "206                6.0               2.9  virginica                5.1   \n",
       "207                5.2               2.6  virginica                4.5   \n",
       "209                7.3               3.1  virginica                6.1   \n",
       "\n",
       "     petal width (cm)  species_num  \n",
       "1                 0.2            0  \n",
       "2                 0.2            0  \n",
       "3                 0.2            0  \n",
       "4                 0.2            0  \n",
       "5                 0.4            0  \n",
       "..                ...          ...  \n",
       "203               1.9            2  \n",
       "205               1.9            2  \n",
       "206               1.9            2  \n",
       "207               1.8            2  \n",
       "209               2.1            2  \n",
       "\n",
       "[187 rows x 6 columns]"
      ]
     },
     "execution_count": 17,
     "metadata": {},
     "output_type": "execute_result"
    }
   ],
   "source": [
    "# transform string to number because models can only work on numbers\n",
    "iris_data_ready = pd.DataFrame(iris_data_normalized)\n",
    "specie_mapping = {'setosa': 0, 'versicolor': 1, 'virginica': 2}\n",
    "specie_num = np.array([specie_mapping[specie] for specie in iris_data_normalized['species']])\n",
    "iris_data_ready['species_num'] = specie_num\n",
    "iris_data_ready"
   ]
  },
  {
   "cell_type": "code",
   "execution_count": 18,
   "id": "58155a7a",
   "metadata": {},
   "outputs": [],
   "source": [
    "# shuffle and split the dataset to a training set and a test set\n",
    "# we need a training set to train the model\n",
    "# and a test set to test the performance\n",
    "\n",
    "\n",
    "from sklearn.model_selection import train_test_split\n",
    "# sepal length (cm), sepal width (cm), petal length (cm), petal width (cm)\n",
    "selected_features = ['petal length (cm)', 'petal width (cm)']\n",
    "all_selected_features = iris_data_ready[selected_features]\n",
    "all_species_num = iris_data_ready['species_num']\n",
    "features_train, features_test, species_train, species_test =\\\n",
    "train_test_split(all_selected_features, all_species_num, test_size=0.33, random_state=0)"
   ]
  },
  {
   "cell_type": "code",
   "execution_count": 19,
   "id": "bf03c7e0",
   "metadata": {
    "scrolled": false
   },
   "outputs": [
    {
     "name": "stdout",
     "output_type": "stream",
     "text": [
      "training set\n"
     ]
    },
    {
     "data": {
      "text/html": [
       "<div>\n",
       "<style scoped>\n",
       "    .dataframe tbody tr th:only-of-type {\n",
       "        vertical-align: middle;\n",
       "    }\n",
       "\n",
       "    .dataframe tbody tr th {\n",
       "        vertical-align: top;\n",
       "    }\n",
       "\n",
       "    .dataframe thead th {\n",
       "        text-align: right;\n",
       "    }\n",
       "</style>\n",
       "<table border=\"1\" class=\"dataframe\">\n",
       "  <thead>\n",
       "    <tr style=\"text-align: right;\">\n",
       "      <th></th>\n",
       "      <th>petal length (cm)</th>\n",
       "      <th>petal width (cm)</th>\n",
       "    </tr>\n",
       "  </thead>\n",
       "  <tbody>\n",
       "    <tr>\n",
       "      <th>23</th>\n",
       "      <td>1.7</td>\n",
       "      <td>0.5</td>\n",
       "    </tr>\n",
       "    <tr>\n",
       "      <th>185</th>\n",
       "      <td>5.2</td>\n",
       "      <td>2.3</td>\n",
       "    </tr>\n",
       "    <tr>\n",
       "      <th>97</th>\n",
       "      <td>5.0</td>\n",
       "      <td>1.7</td>\n",
       "    </tr>\n",
       "    <tr>\n",
       "      <th>149</th>\n",
       "      <td>6.1</td>\n",
       "      <td>2.5</td>\n",
       "    </tr>\n",
       "    <tr>\n",
       "      <th>146</th>\n",
       "      <td>4.5</td>\n",
       "      <td>1.7</td>\n",
       "    </tr>\n",
       "    <tr>\n",
       "      <th>...</th>\n",
       "      <td>...</td>\n",
       "      <td>...</td>\n",
       "    </tr>\n",
       "    <tr>\n",
       "      <th>110</th>\n",
       "      <td>4.4</td>\n",
       "      <td>1.2</td>\n",
       "    </tr>\n",
       "    <tr>\n",
       "      <th>74</th>\n",
       "      <td>4.6</td>\n",
       "      <td>1.5</td>\n",
       "    </tr>\n",
       "    <tr>\n",
       "      <th>127</th>\n",
       "      <td>4.7</td>\n",
       "      <td>1.5</td>\n",
       "    </tr>\n",
       "    <tr>\n",
       "      <th>48</th>\n",
       "      <td>1.5</td>\n",
       "      <td>0.2</td>\n",
       "    </tr>\n",
       "    <tr>\n",
       "      <th>187</th>\n",
       "      <td>5.2</td>\n",
       "      <td>2.0</td>\n",
       "    </tr>\n",
       "  </tbody>\n",
       "</table>\n",
       "<p>125 rows × 2 columns</p>\n",
       "</div>"
      ],
      "text/plain": [
       "     petal length (cm)  petal width (cm)\n",
       "23                 1.7               0.5\n",
       "185                5.2               2.3\n",
       "97                 5.0               1.7\n",
       "149                6.1               2.5\n",
       "146                4.5               1.7\n",
       "..                 ...               ...\n",
       "110                4.4               1.2\n",
       "74                 4.6               1.5\n",
       "127                4.7               1.5\n",
       "48                 1.5               0.2\n",
       "187                5.2               2.0\n",
       "\n",
       "[125 rows x 2 columns]"
      ]
     },
     "execution_count": 19,
     "metadata": {},
     "output_type": "execute_result"
    }
   ],
   "source": [
    "print('training set')\n",
    "features_train"
   ]
  },
  {
   "cell_type": "code",
   "execution_count": 20,
   "id": "2a0b223d",
   "metadata": {},
   "outputs": [
    {
     "name": "stdout",
     "output_type": "stream",
     "text": [
      "test set\n"
     ]
    },
    {
     "data": {
      "text/html": [
       "<div>\n",
       "<style scoped>\n",
       "    .dataframe tbody tr th:only-of-type {\n",
       "        vertical-align: middle;\n",
       "    }\n",
       "\n",
       "    .dataframe tbody tr th {\n",
       "        vertical-align: top;\n",
       "    }\n",
       "\n",
       "    .dataframe thead th {\n",
       "        text-align: right;\n",
       "    }\n",
       "</style>\n",
       "<table border=\"1\" class=\"dataframe\">\n",
       "  <thead>\n",
       "    <tr style=\"text-align: right;\">\n",
       "      <th></th>\n",
       "      <th>petal length (cm)</th>\n",
       "      <th>petal width (cm)</th>\n",
       "    </tr>\n",
       "  </thead>\n",
       "  <tbody>\n",
       "    <tr>\n",
       "      <th>114</th>\n",
       "      <td>4.2</td>\n",
       "      <td>1.3</td>\n",
       "    </tr>\n",
       "    <tr>\n",
       "      <th>46</th>\n",
       "      <td>1.6</td>\n",
       "      <td>0.2</td>\n",
       "    </tr>\n",
       "    <tr>\n",
       "      <th>174</th>\n",
       "      <td>5.6</td>\n",
       "      <td>1.4</td>\n",
       "    </tr>\n",
       "    <tr>\n",
       "      <th>70</th>\n",
       "      <td>4.7</td>\n",
       "      <td>1.4</td>\n",
       "    </tr>\n",
       "    <tr>\n",
       "      <th>137</th>\n",
       "      <td>4.5</td>\n",
       "      <td>1.4</td>\n",
       "    </tr>\n",
       "    <tr>\n",
       "      <th>...</th>\n",
       "      <td>...</td>\n",
       "      <td>...</td>\n",
       "    </tr>\n",
       "    <tr>\n",
       "      <th>53</th>\n",
       "      <td>1.4</td>\n",
       "      <td>0.2</td>\n",
       "    </tr>\n",
       "    <tr>\n",
       "      <th>119</th>\n",
       "      <td>4.1</td>\n",
       "      <td>1.3</td>\n",
       "    </tr>\n",
       "    <tr>\n",
       "      <th>144</th>\n",
       "      <td>5.8</td>\n",
       "      <td>2.2</td>\n",
       "    </tr>\n",
       "    <tr>\n",
       "      <th>41</th>\n",
       "      <td>1.3</td>\n",
       "      <td>0.3</td>\n",
       "    </tr>\n",
       "    <tr>\n",
       "      <th>87</th>\n",
       "      <td>4.1</td>\n",
       "      <td>1.0</td>\n",
       "    </tr>\n",
       "  </tbody>\n",
       "</table>\n",
       "<p>62 rows × 2 columns</p>\n",
       "</div>"
      ],
      "text/plain": [
       "     petal length (cm)  petal width (cm)\n",
       "114                4.2               1.3\n",
       "46                 1.6               0.2\n",
       "174                5.6               1.4\n",
       "70                 4.7               1.4\n",
       "137                4.5               1.4\n",
       "..                 ...               ...\n",
       "53                 1.4               0.2\n",
       "119                4.1               1.3\n",
       "144                5.8               2.2\n",
       "41                 1.3               0.3\n",
       "87                 4.1               1.0\n",
       "\n",
       "[62 rows x 2 columns]"
      ]
     },
     "execution_count": 20,
     "metadata": {},
     "output_type": "execute_result"
    }
   ],
   "source": [
    "print('test set')\n",
    "features_test"
   ]
  },
  {
   "cell_type": "markdown",
   "id": "5f07f4c5",
   "metadata": {},
   "source": [
    "# Model Planning"
   ]
  },
  {
   "cell_type": "markdown",
   "id": "7cacca95",
   "metadata": {},
   "source": [
    "### Do I have a good idea about the type of model  to try?"
   ]
  },
  {
   "attachments": {},
   "cell_type": "markdown",
   "id": "a016d6a9",
   "metadata": {},
   "source": [
    "### There are three main categories of models,\n",
    "### Classification model: \n",
    "            Categorizing data into different classes or groups based on input features. It predicts the probability of each class, and then selects the class with the highest probability as the final prediction.\n",
    "#### example case:\n",
    "        Predicting whether an email is spam or not based on its content and metadata.\n",
    "\n",
    "### Regression model: \n",
    "        Predicting continuous numerical values. It learns the relationship between input features and the target variable by fitting a mathematical line or curve to the data points.\n",
    "#### example case:\n",
    "        Predicting the house prices based on features like area, number of bedrooms, and location.\n",
    "\n",
    "### Clustering model:\n",
    "        Grouping similar data points together based on their similarities. It doesn't require labeled examples and works on unsupervised learning.\n",
    "#### example case:\n",
    "        Grouping customers into different segments based on their shopping behavior to personalize marketing strategies.\n",
    "    "
   ]
  },
  {
   "cell_type": "markdown",
   "id": "31dae35b",
   "metadata": {},
   "source": [
    "# Modle Building"
   ]
  },
  {
   "cell_type": "code",
   "execution_count": 21,
   "id": "16c29d22",
   "metadata": {},
   "outputs": [],
   "source": [
    "# fit the model\n",
    "from sklearn.linear_model import LogisticRegression\n",
    "clf = LogisticRegression().fit(features_train, species_train)"
   ]
  },
  {
   "cell_type": "code",
   "execution_count": 22,
   "id": "2985dffe",
   "metadata": {
    "scrolled": true
   },
   "outputs": [
    {
     "name": "stdout",
     "output_type": "stream",
     "text": [
      "[1 0 2 1 1 2 0 1 2 0 0 1 2 1 1 1 0 1 2 1 0 2 0 1 2 2 1 1 2 0 0 1 2 0 0 0 2\n",
      " 2 1 0 2 1 2 2 1 0 0 1 0 1 2 0 2 2 0 2 0 0 1 2 0 1]\n",
      "[1, 0, 2, 1, 1, 1, 0, 1, 2, 0, 0, 1, 2, 1, 1, 1, 0, 1, 2, 1, 0, 2, 0, 1, 2, 2, 1, 1, 2, 0, 0, 1, 2, 0, 0, 0, 2, 2, 2, 0, 2, 1, 2, 2, 1, 0, 0, 1, 0, 1, 2, 0, 2, 2, 0, 2, 0, 0, 1, 2, 0, 1]\n"
     ]
    }
   ],
   "source": [
    "# test the model with the test set\n",
    "species_pred = clf.predict(features_test)\n",
    "# print the predicted result and the real species\n",
    "print(species_pred)\n",
    "print(species_test.to_list())"
   ]
  },
  {
   "cell_type": "code",
   "execution_count": 23,
   "id": "4dabc152",
   "metadata": {
    "scrolled": true
   },
   "outputs": [
    {
     "name": "stdout",
     "output_type": "stream",
     "text": [
      "[True, True, True, True, True, False, True, True, True, True, True, True, True, True, True, True, True, True, True, True, True, True, True, True, True, True, True, True, True, True, True, True, True, True, True, True, True, True, False, True, True, True, True, True, True, True, True, True, True, True, True, True, True, True, True, True, True, True, True, True, True, True]\n"
     ]
    }
   ],
   "source": [
    "# compare the predicted result and the real species\n",
    "# True indicates prediction is correct, False indicates incorrect\n",
    "print((species_pred==species_test).to_list())"
   ]
  },
  {
   "cell_type": "code",
   "execution_count": 24,
   "id": "1a18276e",
   "metadata": {
    "scrolled": false
   },
   "outputs": [
    {
     "data": {
      "text/plain": [
       "<matplotlib.legend.Legend at 0x28843d1eb20>"
      ]
     },
     "execution_count": 24,
     "metadata": {},
     "output_type": "execute_result"
    },
    {
     "data": {
      "image/png": "[encoded data removed]",
      "text/plain": [
       "<Figure size 640x480 with 1 Axes>"
      ]
     },
     "metadata": {},
     "output_type": "display_data"
    }
   ],
   "source": [
    "# plot the prediction result with the feature we used to visually examine the result\n",
    "# This makes it eaiser to identify which data points were correctly classified and which are not\n",
    "\n",
    "pred_correct = features_test[species_pred==species_test]\n",
    "pred_incorrect = features_test[species_pred!=species_test]\n",
    "\n",
    "plt.scatter(x=pred_correct[selected_features[0]], y=pred_correct[selected_features[1]], label='Corrct', alpha=0.7)\n",
    "plt.scatter(x=pred_incorrect[selected_features[0]], y=pred_incorrect[selected_features[1]], label='Incorrect', alpha=0.5)\n",
    "plt.title('Prediction results on test set')\n",
    "plt.xlabel(selected_features[0])\n",
    "plt.ylabel(selected_features[1])\n",
    "plt.grid()\n",
    "plt.legend()"
   ]
  },
  {
   "cell_type": "code",
   "execution_count": 25,
   "id": "5b013164",
   "metadata": {},
   "outputs": [],
   "source": [
    "# print the test set to see which data points are correctly classified and which are not\n",
    "\n",
    "#pred_correct = features_test[species_pred==species_test]\n",
    "#pred_incorrect = features_test[species_pred!=species_test]\n",
    "#\n",
    "#plt.scatter(x=features_test[selected_features[0]][species_test==0], y=features_test[selected_features[1]][species_test==0], label='setosa', alpha=0.7)\n",
    "#plt.scatter(x=features_test[selected_features[0]][species_test==1], y=features_test[selected_features[1]][species_test==1], label='versicolor', alpha=0.7)\n",
    "#plt.scatter(x=features_test[selected_features[0]][species_test==2], y=features_test[selected_features[1]][species_test==2], label='virginica', alpha=0.3)\n",
    "#plt.title('Petal width and Petal length scatter of Iris data(test set)')\n",
    "#plt.xlabel(selected_features[0])\n",
    "#plt.ylabel(selected_features[1])\n",
    "#plt.grid()\n",
    "#plt.legend()"
   ]
  },
  {
   "cell_type": "code",
   "execution_count": 26,
   "id": "13d9ee76",
   "metadata": {
    "scrolled": true
   },
   "outputs": [
    {
     "name": "stdout",
     "output_type": "stream",
     "text": [
      "accuracy: 96.7741935483871%\n"
     ]
    }
   ],
   "source": [
    "num_correct=len(pred_correct)\n",
    "num_pred = len(pred_correct) + len(pred_incorrect)\n",
    "print(f'accuracy: {(num_correct/num_pred)*100}%')"
   ]
  },
  {
   "cell_type": "code",
   "execution_count": 27,
   "id": "65f01f63",
   "metadata": {
    "scrolled": true
   },
   "outputs": [
    {
     "name": "stdout",
     "output_type": "stream",
     "text": [
      "misclassified records: [2 1]\n",
      "real labels: [1, 2]\n"
     ]
    }
   ],
   "source": [
    "print(f'misclassified records: {species_pred[species_pred!=species_test]}')\n",
    "print(f'real labels: {species_test[species_pred!=species_test].tolist()}')"
   ]
  },
  {
   "cell_type": "code",
   "execution_count": 28,
   "id": "df6f801c",
   "metadata": {},
   "outputs": [
    {
     "name": "stdout",
     "output_type": "stream",
     "text": [
      "1 out of 21 versicolor is misclassified, 4.761904761904762% chance to be misclassified.\n",
      "1 out of 20 virginica is misclassified, 5.0% chance to be misclassified.\n"
     ]
    }
   ],
   "source": [
    "# 0:'setosa', 1:'versicolor', 2:'virginica'\n",
    "print(f'1 out of {len(species_test[species_test==1])} versicolor is misclassified, \\\n",
    "{1/len(species_test[species_test==1])*100}% chance to be misclassified.' )\n",
    "print(f'1 out of {len(species_test[species_test==2])} virginica is misclassified, \\\n",
    "{1/len(species_test[species_test==2])*100}% chance to be misclassified.')"
   ]
  },
  {
   "cell_type": "markdown",
   "id": "466d9e80",
   "metadata": {},
   "source": [
    "### Is our model robust? [Advanced]\n",
    "    Any chance that we are just lucky to get the high accuracy?\n",
    "    Do we need to tune the hyper-parameters?\n",
    "    Maybe the training set is just too good and the test set is too easy to predict?\n",
    "    Let's try different subset of data and hyper-parameters to build a more robust model."
   ]
  },
  {
   "cell_type": "code",
   "execution_count": 29,
   "id": "80041ca7",
   "metadata": {},
   "outputs": [
    {
     "name": "stdout",
     "output_type": "stream",
     "text": [
      "Best Parameters: {'C': 10}\n",
      "Best Score: 0.9679939516129032\n"
     ]
    }
   ],
   "source": [
    "# kfold and GridSearchCv split the training set and test different sets of hyper-parameters\n",
    "# this helps us to find the hyper-parameters that have the vest performance in different split of data\n",
    "# and build a more robust model\n",
    "\n",
    "\n",
    "from sklearn.model_selection import KFold, cross_val_score\n",
    "from sklearn.model_selection import GridSearchCV\n",
    "\n",
    "clf = LogisticRegression()\n",
    "\n",
    "# define the hyper-parameters we want to try\n",
    "param_grid = {'C': [0.1, 1, 10]}\n",
    "\n",
    "# use the kfold to randomly split the training set\n",
    "kfold = KFold(n_splits=4, shuffle=True, random_state=30)\n",
    "\n",
    "\n",
    "# use the grid search to find the best hyper-parameter setting\n",
    "grid_search = GridSearchCV(estimator=clf, param_grid=param_grid, scoring='accuracy', cv=kfold)\n",
    "grid_search.fit(features_train, species_train)\n",
    "\n",
    "# print the best found hyper-parameters and its score\n",
    "print(\"Best Parameters:\", grid_search.best_params_)\n",
    "print(\"Best Score:\", grid_search.best_score_)"
   ]
  },
  {
   "cell_type": "markdown",
   "id": "c8ea1ad0",
   "metadata": {},
   "source": [
    "# Communicate"
   ]
  },
  {
   "cell_type": "markdown",
   "id": "539ff5f9",
   "metadata": {},
   "source": [
    "### What do you find about the data or the model?"
   ]
  },
  {
   "attachments": {},
   "cell_type": "markdown",
   "id": "c6c738fb",
   "metadata": {},
   "source": [
    "### What can we tell Alan?\n",
    "    For management, they might care more about the accuracy.\n",
    "    ex: The overall accuracy is 96%. The model can accurately distinguish the setosa from the other two species, but may    misclassify the versicolor and the virginica with probability around 4%~5%."
   ]
  },
  {
   "attachments": {},
   "cell_type": "markdown",
   "id": "b6a84cb4",
   "metadata": {},
   "source": [
    "### What can we tell the engineer responsible for building the robot?\n",
    "    For engineers, they might need to know how the model work and how to make it better.\n",
    "    ex: The model is trained with the petal length and the petal width and some versicolor and virginica have similar petal length and width. Some features that are more distinctive can be considered to avoid misclassification."
   ]
  }
 ],
 "metadata": {
  "kernelspec": {
   "display_name": "Python 3 (ipykernel)",
   "language": "python",
   "name": "python3"
  },
  "language_info": {
   "codemirror_mode": {
    "name": "ipython",
    "version": 3
   },
   "file_extension": ".py",
   "mimetype": "text/x-python",
   "name": "python",
   "nbconvert_exporter": "python",
   "pygments_lexer": "ipython3",
   "version": "3.9.13"
  }
 },
 "nbformat": 4,
 "nbformat_minor": 5
}
