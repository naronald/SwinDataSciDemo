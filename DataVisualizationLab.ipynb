{
 "cells": [
  {
   "cell_type": "code",
   "execution_count": null,
   "id": "aa2da3bb",
   "metadata": {},
   "outputs": [],
   "source": [
    "import pandas as pd\n",
    "import numpy as np\n",
    "import matplotlib.pyplot as plt"
   ]
  },
  {
   "cell_type": "markdown",
   "id": "de1dd6cc",
   "metadata": {},
   "source": [
    "# Discovery"
   ]
  },
  {
   "cell_type": "markdown",
   "id": "297e256d",
   "metadata": {},
   "source": [
    "### Do we have enough data to draft an analytic plan?"
   ]
  },
  {
   "cell_type": "code",
   "execution_count": null,
   "id": "ff8bff19",
   "metadata": {},
   "outputs": [],
   "source": [
    "raw_iris_data = pd.read_csv('raw_iris_dataset.csv')\n",
    "raw_iris_data"
   ]
  },
  {
   "cell_type": "code",
   "execution_count": null,
   "id": "dad0378b",
   "metadata": {
    "scrolled": true
   },
   "outputs": [],
   "source": [
    "# briefly explore the data\n",
    "print(raw_iris_data['species'].unique())"
   ]
  },
  {
   "cell_type": "code",
   "execution_count": null,
   "id": "b0358d6f",
   "metadata": {
    "scrolled": true
   },
   "outputs": [],
   "source": [
    "# briefly explore the data (by species)\n",
    "raw_setosa = raw_iris_data[raw_iris_data['species']=='setosa']\n",
    "print('setosa:')\n",
    "print(f'sepal length (cm): {raw_setosa[\"sepal length (cm)\"].min()} ~ {raw_setosa[\"sepal length (cm)\"].max()}')\n",
    "print(f'sepal width (cm): {raw_setosa[\"sepal width (cm)\"].min()} ~ {raw_setosa[\"sepal width (cm)\"].max()}')\n",
    "print(f'petal length (mm): {raw_setosa[\"petal length (mm)\"].min()} ~ {raw_setosa[\"petal length (mm)\"].max()}')\n",
    "print(f'petal width (mm): {raw_setosa[\"petal width (mm)\"].min()} ~ {raw_setosa[\"petal width (mm)\"].max()}')\n",
    "raw_versicolor = raw_iris_data[raw_iris_data['species']=='versicolor']\n",
    "print('versicolor:')\n",
    "print(f'sepal length (cm): {raw_versicolor[\"sepal length (cm)\"].min()} ~ {raw_versicolor[\"sepal length (cm)\"].max()}')\n",
    "print(f'sepal width (cm): {raw_versicolor[\"sepal width (cm)\"].min()} ~ {raw_versicolor[\"sepal width (cm)\"].max()}')\n",
    "print(f'petal length (mm): {raw_versicolor[\"petal length (mm)\"].min()} ~ {raw_versicolor[\"petal length (mm)\"].max()}')\n",
    "print(f'petal width (mm): {raw_versicolor[\"petal width (mm)\"].min()} ~ {raw_versicolor[\"petal width (mm)\"].max()}')\n",
    "raw_virginica = raw_iris_data[raw_iris_data['species']=='virginica']\n",
    "print('virginica:')\n",
    "print(f'sepal length (cm): {raw_virginica[\"sepal length (cm)\"].min()} ~ {raw_virginica[\"sepal length (cm)\"].max()}')\n",
    "print(f'sepal width (cm): {raw_virginica[\"sepal width (cm)\"].min()} ~ {raw_virginica[\"sepal width (cm)\"].max()}')\n",
    "print(f'petal length (mm): {raw_virginica[\"petal length (mm)\"].min()} ~ {raw_virginica[\"petal length (mm)\"].max()}')\n",
    "print(f'petal width (mm): {raw_virginica[\"petal width (mm)\"].min()} ~ {raw_virginica[\"petal width (mm)\"].max()}')"
   ]
  },
  {
   "cell_type": "code",
   "execution_count": null,
   "id": "705461f7",
   "metadata": {
    "scrolled": true
   },
   "outputs": [],
   "source": [
    "# briefly explore the data (by species): visualization\n",
    "raw_setosa_data = raw_iris_data[raw_iris_data['species']=='setosa']\n",
    "raw_versicolor_data = raw_iris_data[raw_iris_data['species']=='versicolor']\n",
    "raw_virginica_data = raw_iris_data[raw_iris_data['species']=='virginica']"
   ]
  },
  {
   "cell_type": "code",
   "execution_count": null,
   "id": "2364283a",
   "metadata": {},
   "outputs": [],
   "source": [
    "plt.hist(raw_setosa_data['petal width (mm)'], bins=10, alpha=0.7, edgecolor='black', label='setosa')\n",
    "plt.hist(raw_versicolor_data['petal width (mm)'], bins=10, alpha=0.7, edgecolor='black', label='versicolor')\n",
    "plt.hist(raw_virginica_data['petal width (mm)'], bins=10, alpha=0.7, edgecolor='black', label='virginica')\n",
    "plt.title('Petal Width Distribution in Iris Dataset')\n",
    "plt.xlabel('Petal Width (mm)')\n",
    "plt.ylabel('Frequency')\n",
    "plt.grid()\n",
    "plt.legend()"
   ]
  },
  {
   "cell_type": "code",
   "execution_count": null,
   "id": "566e7f15",
   "metadata": {},
   "outputs": [],
   "source": [
    "plt.hist(raw_setosa_data['sepal width (cm)'], bins=10, alpha=0.7, edgecolor='black', label='setosa')\n",
    "plt.hist(raw_versicolor_data['sepal width (cm)'], bins=10, alpha=0.7, edgecolor='black', label='versicolor')\n",
    "plt.hist(raw_virginica_data['sepal width (cm)'], bins=10, alpha=0.7, edgecolor='black', label='virginica')\n",
    "plt.title('Sepal Width Distribution in Iris Dataset')\n",
    "plt.xlabel('Sepal Width (cm)')\n",
    "plt.ylabel('Frequency')\n",
    "plt.grid()\n",
    "plt.legend()"
   ]
  },
  {
   "cell_type": "code",
   "execution_count": null,
   "id": "21185177",
   "metadata": {},
   "outputs": [],
   "source": [
    "plt.scatter(raw_setosa_data['sepal length (cm)'], raw_setosa_data['sepal width (cm)'], label='setosa', alpha=0.7)\n",
    "plt.scatter(raw_versicolor_data['sepal length (cm)'], raw_versicolor_data['sepal width (cm)'], label='vesicolor', alpha=0.7)\n",
    "plt.scatter(raw_virginica_data['sepal length (cm)'], raw_virginica_data['sepal width (cm)'], label='virginica', alpha=0.7)\n",
    "plt.title('Sepal width and Sepal length scatter of Iris data')\n",
    "plt.xlabel('sepal length (cm)')\n",
    "plt.ylabel('sepal width (cm)')\n",
    "plt.grid()\n",
    "plt.legend()"
   ]
  },
  {
   "cell_type": "code",
   "execution_count": null,
   "id": "18b79add",
   "metadata": {},
   "outputs": [],
   "source": [
    "plt.scatter(raw_setosa_data['petal length (mm)'], raw_setosa_data['petal width (mm)'], label='setosa', alpha=0.7)\n",
    "plt.scatter(raw_versicolor_data['petal length (mm)'], raw_versicolor_data['petal width (mm)'], label='vesicolor', alpha=0.7)\n",
    "plt.scatter(raw_virginica_data['petal length (mm)'], raw_virginica_data['petal width (mm)'], label='virginica', alpha=0.7)\n",
    "plt.title('Petal width and Petal length scatter of Iris data')\n",
    "plt.xlabel('petal length (mm)')\n",
    "plt.ylabel('petal width (mm)')\n",
    "plt.grid()\n",
    "plt.legend()"
   ]
  },
  {
   "cell_type": "code",
   "execution_count": null,
   "id": "0b951df4",
   "metadata": {},
   "outputs": [],
   "source": [
    "plt.scatter(raw_setosa_data['petal length (mm)'], raw_setosa_data['sepal width (cm)'], label='setosa', alpha=0.7)\n",
    "plt.scatter(raw_versicolor_data['petal length (mm)'], raw_versicolor_data['sepal width (cm)'], label='vesicolor', alpha=0.7)\n",
    "plt.scatter(raw_virginica_data['petal length (mm)'], raw_virginica_data['sepal width (cm)'], label='virginica', alpha=0.7)\n",
    "plt.title('Sepal width and Petal length scatter of Iris data')\n",
    "plt.xlabel('petal length (mm)')\n",
    "plt.ylabel('sepal width (cm)')\n",
    "plt.grid()\n",
    "plt.legend()"
   ]
  },
  {
   "cell_type": "markdown",
   "id": "f10654b8",
   "metadata": {},
   "source": [
    "# Data Prep"
   ]
  },
  {
   "cell_type": "markdown",
   "id": "e17d6672",
   "metadata": {},
   "source": [
    "### Do I have enough good data to start building the model?\n",
    "### Is my data fit for use?"
   ]
  },
  {
   "cell_type": "code",
   "execution_count": null,
   "id": "cbeb81cd",
   "metadata": {},
   "outputs": [],
   "source": [
    "# look at the raw data again\n",
    "raw_iris_data"
   ]
  },
  {
   "cell_type": "code",
   "execution_count": null,
   "id": "82e8cf1f",
   "metadata": {
    "scrolled": true
   },
   "outputs": [],
   "source": [
    "# select data\n",
    "iris_data = raw_iris_data.drop(['date measured', 'measured by'], axis=1)\n",
    "iris_data"
   ]
  },
  {
   "cell_type": "code",
   "execution_count": null,
   "id": "6d0ccfc8",
   "metadata": {},
   "outputs": [],
   "source": [
    "# check usability and clean the data\n",
    "# some data may be abnormal, containing errors or missing values\n",
    "# in this case, we have some missing values\n",
    "\n",
    "# check if any cell in a column contains 'nan'(no value)\n",
    "iris_data.isna().any()"
   ]
  },
  {
   "cell_type": "code",
   "execution_count": null,
   "id": "6f464a99",
   "metadata": {},
   "outputs": [],
   "source": [
    "# check again to see if 'nan' are removed\n",
    "iris_data_drop_na = iris_data.dropna()\n",
    "iris_data_drop_na"
   ]
  },
  {
   "cell_type": "code",
   "execution_count": null,
   "id": "10bcd047",
   "metadata": {
    "scrolled": true
   },
   "outputs": [],
   "source": [
    "iris_data_drop_na.isna().any()"
   ]
  },
  {
   "cell_type": "code",
   "execution_count": null,
   "id": "528e1c0c",
   "metadata": {},
   "outputs": [],
   "source": [
    "# align the unit of data to a uniform unit\n",
    "petal_length_cm = np.array(iris_data_drop_na['petal length (mm)'])/10\n",
    "petal_width_cm = np.array(iris_data_drop_na['petal width (mm)'])/10\n",
    "iris_data_normalized = pd.DataFrame(iris_data_drop_na)\n",
    "iris_data_normalized['petal length (cm)'] = petal_length_cm\n",
    "iris_data_normalized['petal width (cm)'] = petal_width_cm\n",
    "iris_data_normalized=iris_data_normalized.drop(['petal length (mm)','petal width (mm)'], axis=1)\n",
    "iris_data_normalized"
   ]
  },
  {
   "cell_type": "code",
   "execution_count": null,
   "id": "bff87138",
   "metadata": {},
   "outputs": [],
   "source": [
    "# transform string to number because models can only work on numbers\n",
    "iris_data_ready = pd.DataFrame(iris_data_normalized)\n",
    "specie_mapping = {'setosa': 0, 'versicolor': 1, 'virginica': 2}\n",
    "specie_num = np.array([specie_mapping[specie] for specie in iris_data_normalized['species']])\n",
    "iris_data_ready['species_num'] = specie_num\n",
    "iris_data_ready"
   ]
  },
  {
   "cell_type": "code",
   "execution_count": null,
   "id": "58155a7a",
   "metadata": {},
   "outputs": [],
   "source": [
    "# shuffle and split the dataset to a training set and a test set\n",
    "# we need a training set to train the model\n",
    "# and a test set to test the performance\n",
    "\n",
    "\n",
    "from sklearn.model_selection import train_test_split\n",
    "# sepal length (cm), sepal width (cm), petal length (cm), petal width (cm)\n",
    "selected_features = ['petal length (cm)', 'petal width (cm)']\n",
    "all_selected_features = iris_data_ready[selected_features]\n",
    "all_species_num = iris_data_ready['species_num']\n",
    "features_train, features_test, species_train, species_test =\\\n",
    "train_test_split(all_selected_features, all_species_num, test_size=0.33, random_state=0)"
   ]
  },
  {
   "cell_type": "code",
   "execution_count": null,
   "id": "bf03c7e0",
   "metadata": {},
   "outputs": [],
   "source": [
    "print('training set')\n",
    "features_train"
   ]
  },
  {
   "cell_type": "code",
   "execution_count": null,
   "id": "2a0b223d",
   "metadata": {},
   "outputs": [],
   "source": [
    "print('test set')\n",
    "features_test"
   ]
  },
  {
   "cell_type": "markdown",
   "id": "5f07f4c5",
   "metadata": {},
   "source": [
    "# Model Planning"
   ]
  },
  {
   "cell_type": "markdown",
   "id": "7cacca95",
   "metadata": {},
   "source": [
    "### Do I have a good idea about the type of model  to try?"
   ]
  },
  {
   "cell_type": "markdown",
   "id": "a016d6a9",
   "metadata": {},
   "source": [
    "### There are three main categories of models,\n",
    "### Classification model: \n",
    "            \n",
    "Categorizing data into different classes or groups based on input features. It predicts the probability of each class, and then selects the class with the highest probability as the final prediction.\n",
    "#### example case:\n",
    "Predicting whether an email is spam or not based on its content and metadata.\n",
    "\n",
    "### Regression model: \n",
    "Predicting continuous numerical values. It learns the relationship between input features and the target variable by fitting a mathematical line or curve to the data points.\n",
    "#### example case:\n",
    "Predicting the house prices based on features like area, number of bedrooms, and location.\n",
    "\n",
    "### Clustering model:\n",
    "Grouping similar data points together based on their similarities. It doesn't require labeled examples and works on unsupervised learning.\n",
    "#### example case:\n",
    "Grouping customers into different segments based on their shopping behavior to personalize marketing strategies.\n",
    "    "
   ]
  },
  {
   "cell_type": "markdown",
   "id": "31dae35b",
   "metadata": {},
   "source": [
    "# Model Building"
   ]
  },
  {
   "cell_type": "code",
   "execution_count": null,
   "id": "16c29d22",
   "metadata": {},
   "outputs": [],
   "source": [
    "# fit the model\n",
    "from sklearn.linear_model import LogisticRegression\n",
    "clf = LogisticRegression().fit(features_train, species_train)"
   ]
  },
  {
   "cell_type": "code",
   "execution_count": null,
   "id": "2985dffe",
   "metadata": {
    "scrolled": true
   },
   "outputs": [],
   "source": [
    "# test the model with the test set\n",
    "species_pred = clf.predict(features_test)\n",
    "# print the predicted result and the real species\n",
    "print(species_pred)\n",
    "print(species_test.to_list())"
   ]
  },
  {
   "cell_type": "code",
   "execution_count": null,
   "id": "4dabc152",
   "metadata": {
    "scrolled": true
   },
   "outputs": [],
   "source": [
    "# compare the predicted result and the real species\n",
    "# True indicates prediction is correct, False indicates incorrect\n",
    "print((species_pred==species_test).to_list())"
   ]
  },
  {
   "cell_type": "code",
   "execution_count": null,
   "id": "1a18276e",
   "metadata": {},
   "outputs": [],
   "source": [
    "# plot the prediction result with the feature we used to visually examine the result\n",
    "# This makes it eaiser to identify which data points were correctly classified and which are not\n",
    "\n",
    "pred_correct = features_test[species_pred==species_test]\n",
    "pred_incorrect = features_test[species_pred!=species_test]\n",
    "\n",
    "plt.scatter(x=pred_correct[selected_features[0]], y=pred_correct[selected_features[1]], label='Corrct', alpha=0.7)\n",
    "plt.scatter(x=pred_incorrect[selected_features[0]], y=pred_incorrect[selected_features[1]], label='Incorrect', alpha=0.5)\n",
    "plt.title('Prediction results on test set')\n",
    "plt.xlabel(selected_features[0])\n",
    "plt.ylabel(selected_features[1])\n",
    "plt.grid()\n",
    "plt.legend()"
   ]
  },
  {
   "cell_type": "code",
   "execution_count": null,
   "id": "5b013164",
   "metadata": {},
   "outputs": [],
   "source": [
    "# print the test set to see which data points are correctly classified and which are not\n",
    "\n",
    "#pred_correct = features_test[species_pred==species_test]\n",
    "#pred_incorrect = features_test[species_pred!=species_test]\n",
    "#\n",
    "#plt.scatter(x=features_test[selected_features[0]][species_test==0], y=features_test[selected_features[1]][species_test==0], label='setosa', alpha=0.7)\n",
    "#plt.scatter(x=features_test[selected_features[0]][species_test==1], y=features_test[selected_features[1]][species_test==1], label='versicolor', alpha=0.7)\n",
    "#plt.scatter(x=features_test[selected_features[0]][species_test==2], y=features_test[selected_features[1]][species_test==2], label='virginica', alpha=0.3)\n",
    "#plt.title('Petal width and Petal length scatter of Iris data(test set)')\n",
    "#plt.xlabel(selected_features[0])\n",
    "#plt.ylabel(selected_features[1])\n",
    "#plt.grid()\n",
    "#plt.legend()"
   ]
  },
  {
   "cell_type": "code",
   "execution_count": null,
   "id": "13d9ee76",
   "metadata": {
    "scrolled": true
   },
   "outputs": [],
   "source": [
    "num_correct=len(pred_correct)\n",
    "num_pred = len(pred_correct) + len(pred_incorrect)\n",
    "print(f'accuracy: {(num_correct/num_pred)*100}%')"
   ]
  },
  {
   "cell_type": "code",
   "execution_count": null,
   "id": "65f01f63",
   "metadata": {
    "scrolled": true
   },
   "outputs": [],
   "source": [
    "print(f'misclassified records: {species_pred[species_pred!=species_test]}')\n",
    "print(f'real labels: {species_test[species_pred!=species_test].tolist()}')"
   ]
  },
  {
   "cell_type": "code",
   "execution_count": null,
   "id": "df6f801c",
   "metadata": {},
   "outputs": [],
   "source": [
    "# 0:'setosa', 1:'versicolor', 2:'virginica'\n",
    "print(f'1 out of {len(species_test[species_test==1])} versicolor is misclassified, \\\n",
    "{1/len(species_test[species_test==1])*100}% chance to be misclassified.' )\n",
    "print(f'1 out of {len(species_test[species_test==2])} virginica is misclassified, \\\n",
    "{1/len(species_test[species_test==2])*100}% chance to be misclassified.')"
   ]
  },
  {
   "cell_type": "markdown",
   "id": "466d9e80",
   "metadata": {},
   "source": [
    "### Is our model robust? [Advanced]\n",
    "    \n",
    "Any chance that we are just lucky to get the high accuracy?\n",
    "Do we need to tune the hyper-parameters?\n",
    "Maybe the training set is just too good and the test set is too easy to predict?\n",
    "Let's try different subset of data and hyper-parameters to build a more robust model."
   ]
  },
  {
   "cell_type": "code",
   "execution_count": null,
   "id": "80041ca7",
   "metadata": {},
   "outputs": [],
   "source": [
    "# kfold and GridSearchCv split the training set and test different sets of hyper-parameters\n",
    "# this helps us to find the hyper-parameters that have the vest performance in different split of data\n",
    "# and build a more robust model\n",
    "\n",
    "\n",
    "from sklearn.model_selection import KFold, cross_val_score\n",
    "from sklearn.model_selection import GridSearchCV\n",
    "\n",
    "clf = LogisticRegression()\n",
    "\n",
    "# define the hyper-parameters we want to try\n",
    "param_grid = {'C': [0.1, 1, 10]}\n",
    "\n",
    "# use the kfold to randomly split the training set\n",
    "kfold = KFold(n_splits=4, shuffle=True, random_state=30)\n",
    "\n",
    "\n",
    "# use the grid search to find the best hyper-parameter setting\n",
    "grid_search = GridSearchCV(estimator=clf, param_grid=param_grid, scoring='accuracy', cv=kfold)\n",
    "grid_search.fit(features_train, species_train)\n",
    "\n",
    "# print the best found hyper-parameters and its score\n",
    "print(\"Best Parameters:\", grid_search.best_params_)\n",
    "print(\"Best Score:\", grid_search.best_score_)"
   ]
  },
  {
   "cell_type": "markdown",
   "id": "c8ea1ad0",
   "metadata": {},
   "source": [
    "# Communicate"
   ]
  },
  {
   "cell_type": "markdown",
   "id": "539ff5f9",
   "metadata": {},
   "source": [
    "### What do you find about the data or the model?"
   ]
  },
  {
   "cell_type": "markdown",
   "id": "c6c738fb",
   "metadata": {},
   "source": [
    "### What can we tell Alan?\n",
    "    \n",
    "For management, they might care more about the accuracy.\n",
    "ex: The overall accuracy is 96%. The model can accurately distinguish the setosa from the other two species, but may misclassify the versicolor and the virginica with probability around 4%~5%."
   ]
  },
  {
   "cell_type": "markdown",
   "id": "b6a84cb4",
   "metadata": {},
   "source": [
    "### What can we tell the engineer responsible for building the robot?\n",
    "    \n",
    "For engineers, they might need to know how the model work and how to make it better.\n",
    "ex: The model is trained with the petal length and the petal width and some versicolor and virginica have similar petal length and width. Some features that are more distinctive can be considered to avoid misclassification."
   ]
  },
  {
   "cell_type": "code",
   "execution_count": null,
   "id": "28311020-d9d6-4c9f-aeac-0003029522e3",
   "metadata": {},
   "outputs": [],
   "source": []
  }
 ],
 "metadata": {
  "kernelspec": {
   "display_name": "Python 3 (ipykernel)",
   "language": "python",
   "name": "python3"
  },
  "language_info": {
   "codemirror_mode": {
    "name": "ipython",
    "version": 3
   },
   "file_extension": ".py",
   "mimetype": "text/x-python",
   "name": "python",
   "nbconvert_exporter": "python",
   "pygments_lexer": "ipython3",
   "version": "3.11.5"
  }
 },
 "nbformat": 4,
 "nbformat_minor": 5
}
